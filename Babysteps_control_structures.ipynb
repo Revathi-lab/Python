{
 "cells": [
  {
   "cell_type": "code",
   "execution_count": 1,
   "id": "1636f01f-b887-4a65-b907-87d9f7a12af8",
   "metadata": {},
   "outputs": [
    {
     "name": "stdout",
     "output_type": "stream",
     "text": [
      "Welcome to Assignment-1\n"
     ]
    }
   ],
   "source": [
    "print(\"Welcome to Assignment-1\")"
   ]
  },
  {
   "cell_type": "code",
   "execution_count": 9,
   "id": "d618729b-5bba-4c38-9103-43c9322ede74",
   "metadata": {},
   "outputs": [
    {
     "name": "stdout",
     "output_type": "stream",
     "text": [
      "Num1 = 10\n",
      "Num2 = 30\n",
      "Add = 40\n"
     ]
    }
   ],
   "source": [
    "Num1 = 10\n",
    "print(\"Num1 =\",Num1)\n",
    "Num2 = 30\n",
    "print(\"Num2 =\",Num2)\n",
    "Add = Num1 + Num2\n",
    "print(\"Add =\", Add)"
   ]
  },
  {
   "cell_type": "code",
   "execution_count": 15,
   "id": "5925f347-eb8a-4852-a7dd-4680beadfdd0",
   "metadata": {},
   "outputs": [
    {
     "name": "stdin",
     "output_type": "stream",
     "text": [
      "Enter the BMI Index: 30\n"
     ]
    },
    {
     "name": "stdout",
     "output_type": "stream",
     "text": [
      "Very Over Weight\n"
     ]
    }
   ],
   "source": [
    "#Body Mass Index\n",
    "BMI_Index=int(input(\"Enter the BMI Index:\"))\n",
    "if BMI_Index < 18.5:\n",
    "    print(\"Under Weight\")\n",
    "elif BMI_Index < 25.9:\n",
    "    print(\"Normal Weight\")\n",
    "elif BMI_Index < 29.9:\n",
    "    print(\"Over Weight\")\n",
    "else:\n",
    "    print(\"Very Over Weight\")\n",
    "    \n",
    "              "
   ]
  },
  {
   "cell_type": "code",
   "execution_count": null,
   "id": "4143ad0f-585c-4c89-8b8b-ccda503af450",
   "metadata": {},
   "outputs": [],
   "source": []
  }
 ],
 "metadata": {
  "kernelspec": {
   "display_name": "Python [conda env:base] *",
   "language": "python",
   "name": "conda-base-py"
  },
  "language_info": {
   "codemirror_mode": {
    "name": "ipython",
    "version": 3
   },
   "file_extension": ".py",
   "mimetype": "text/x-python",
   "name": "python",
   "nbconvert_exporter": "python",
   "pygments_lexer": "ipython3",
   "version": "3.13.5"
  }
 },
 "nbformat": 4,
 "nbformat_minor": 5
}
