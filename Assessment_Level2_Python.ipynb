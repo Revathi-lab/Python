{
 "cells": [
  {
   "cell_type": "code",
   "execution_count": 1,
   "id": "2f9731ee-95f5-4d56-8a22-b0674d9b566e",
   "metadata": {},
   "outputs": [
    {
     "name": "stdout",
     "output_type": "stream",
     "text": [
      "0\n",
      "1\n",
      "2\n",
      "3\n",
      "4\n",
      "5\n",
      "6\n",
      "7\n",
      "8\n",
      "9\n",
      "10\n",
      "11\n",
      "12\n",
      "13\n",
      "14\n",
      "15\n",
      "16\n",
      "17\n",
      "18\n",
      "19\n"
     ]
    }
   ],
   "source": [
    "# print 0 to 20 by using range\n",
    "for num in range(0,20):\n",
    "    print(num)"
   ]
  },
  {
   "cell_type": "code",
   "execution_count": 3,
   "id": "ccb0fdb9-ec29-4cec-8497-d7aa287aaab4",
   "metadata": {},
   "outputs": [
    {
     "name": "stdout",
     "output_type": "stream",
     "text": [
      "10 11 12 13 14 15 16 17 18 19 "
     ]
    }
   ],
   "source": [
    "# print range 10 to 20\n",
    "for num in range(10,20):\n",
    "    print(num, end =\" \")"
   ]
  },
  {
   "cell_type": "code",
   "execution_count": 6,
   "id": "8bc706f9-b290-4328-95e0-19041c657786",
   "metadata": {},
   "outputs": [
    {
     "name": "stdout",
     "output_type": "stream",
     "text": [
      "[10, 20, 14, 55, 43, 87, 76]\n",
      "Number of item in the list: 7\n"
     ]
    }
   ],
   "source": [
    "# Print number of items in the list by using 'len'\n",
    "list = [10,20,14,55,43,87,76]\n",
    "print(list)\n",
    "print(\"Number of item in the list:\", len(list))"
   ]
  },
  {
   "cell_type": "code",
   "execution_count": 10,
   "id": "d72c9326-7a44-4a58-8981-b8bac3b81b8c",
   "metadata": {},
   "outputs": [
    {
     "name": "stdout",
     "output_type": "stream",
     "text": [
      "Artificial Intelligence\n",
      "A\n",
      "r\n",
      "t\n",
      "i\n",
      "f\n",
      "i\n",
      "c\n",
      "i\n",
      "a\n",
      "l\n",
      " \n",
      "I\n",
      "n\n",
      "t\n",
      "e\n",
      "l\n",
      "l\n",
      "i\n",
      "g\n",
      "e\n",
      "n\n",
      "c\n",
      "e\n"
     ]
    }
   ],
   "source": [
    "Word = \"Artificial Intelligence\"\n",
    "print(Word)\n",
    "for letter in Word:\n",
    "    print(letter)"
   ]
  },
  {
   "cell_type": "code",
   "execution_count": 13,
   "id": "00964d21-2a30-484e-bc5a-e4f16e39c498",
   "metadata": {},
   "outputs": [
    {
     "name": "stdin",
     "output_type": "stream",
     "text": [
      "-Your Name- \n",
      "-Your Age- \n",
      "-Your Profession- \n"
     ]
    }
   ],
   "source": [
    "Name = input(\"-Your Name-\")\n",
    "Age = input(\"-Your Age-\")\n",
    "Profession = input(\"-Your Profession-\")          "
   ]
  },
  {
   "cell_type": "code",
   "execution_count": 14,
   "id": "773daf7f-2cfe-4ede-a8c8-ed6bc6f31bf9",
   "metadata": {},
   "outputs": [
    {
     "name": "stdout",
     "output_type": "stream",
     "text": [
      "(1, 'Welcome', 2, 'Hope')\n"
     ]
    }
   ],
   "source": [
    "# Print this mixered datatype using Tuples\n",
    "tup = (1, 'Welcome', 2, 'Hope')\n",
    "print(tup)"
   ]
  },
  {
   "cell_type": "code",
   "execution_count": 17,
   "id": "dbe2a422-c0e1-4035-a454-b7529bd82e3d",
   "metadata": {},
   "outputs": [
    {
     "name": "stdout",
     "output_type": "stream",
     "text": [
      "((0, 1, 2, 3), ('python', 'Hope'))\n"
     ]
    }
   ],
   "source": [
    "Tulip1 = (0,1,2,3)\n",
    "Tulip2 = ('python', 'Hope')\n",
    "Tulip3 = (Tulip1,Tulip2)\n",
    "print(Tulip3)"
   ]
  },
  {
   "cell_type": "code",
   "execution_count": 21,
   "id": "7423d600-25d8-4cde-99f5-cf559ebc4afc",
   "metadata": {},
   "outputs": [
    {
     "name": "stdout",
     "output_type": "stream",
     "text": [
      "19  is Odd\n",
      "25  is Odd\n",
      "1  is Odd\n"
     ]
    }
   ],
   "source": [
    "# print Odd Numbers in the list\n",
    "list1 = (20,10,16,19,25,1,276,188)\n",
    "for num in list1:\n",
    "    if (num%2==1):\n",
    "        print(num,\" is Odd\")"
   ]
  },
  {
   "cell_type": "code",
   "execution_count": 22,
   "id": "ab77cc17-56ff-4ae3-a54e-0e35cfd504a3",
   "metadata": {},
   "outputs": [
    {
     "name": "stdout",
     "output_type": "stream",
     "text": [
      "20  is Even\n",
      "10  is Even\n",
      "16  is Even\n",
      "276  is Even\n",
      "188  is Even\n"
     ]
    }
   ],
   "source": [
    "# print Even Numbers in the list\n",
    "list1 = (20,10,16,19,25,1,276,188)\n",
    "for num in list1:\n",
    "    if (num%2==0):\n",
    "        print(num,\" is Even\")"
   ]
  },
  {
   "cell_type": "code",
   "execution_count": null,
   "id": "3912826d-aa64-4295-8879-99517ecb1da9",
   "metadata": {},
   "outputs": [],
   "source": []
  }
 ],
 "metadata": {
  "kernelspec": {
   "display_name": "Python [conda env:base] *",
   "language": "python",
   "name": "conda-base-py"
  },
  "language_info": {
   "codemirror_mode": {
    "name": "ipython",
    "version": 3
   },
   "file_extension": ".py",
   "mimetype": "text/x-python",
   "name": "python",
   "nbconvert_exporter": "python",
   "pygments_lexer": "ipython3",
   "version": "3.13.5"
  }
 },
 "nbformat": 4,
 "nbformat_minor": 5
}
