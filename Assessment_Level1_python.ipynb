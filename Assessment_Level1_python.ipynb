{
 "cells": [
  {
   "cell_type": "code",
   "execution_count": 3,
   "id": "0b888e94-7c2c-4e87-a8f5-6e1ec1f955b7",
   "metadata": {},
   "outputs": [
    {
     "name": "stdout",
     "output_type": "stream",
     "text": [
      "Hope AI\n"
     ]
    }
   ],
   "source": [
    "#print Statement\n",
    "print(\"Hope AI\")"
   ]
  },
  {
   "cell_type": "code",
   "execution_count": 7,
   "id": "1e7a1893-8b6e-417e-b960-a262913a896e",
   "metadata": {},
   "outputs": [
    {
     "name": "stdin",
     "output_type": "stream",
     "text": [
      "Enter your institute name: Hope AI\n"
     ]
    }
   ],
   "source": [
    "#Buy input\n",
    "institute_name = input(\"Enter your institute name:\")"
   ]
  },
  {
   "cell_type": "code",
   "execution_count": 8,
   "id": "a7509e8f-11c3-4df3-89ef-7f142078bffc",
   "metadata": {},
   "outputs": [
    {
     "name": "stdin",
     "output_type": "stream",
     "text": [
      "Enter your name :  Revathi\n",
      "Enter your age:  34\n",
      "Enter your school:  Ethel Harvey\n",
      "Enter your Degree:  Bsc (IT)\n"
     ]
    }
   ],
   "source": [
    "#Buy inputs\n",
    "Name = input(\"Enter your name : \")\n",
    "Age = int(input(\"Enter your age: \"))\n",
    "School = input(\"Enter your school: \")\n",
    "Degree = input(\"Enter your Degree: \")"
   ]
  },
  {
   "cell_type": "code",
   "execution_count": 9,
   "id": "d24d4ae5-8b65-4a85-b81e-d4fa9b666a83",
   "metadata": {},
   "outputs": [
    {
     "name": "stdout",
     "output_type": "stream",
     "text": [
      "a =  43\n",
      "b = 34\n",
      "add = 77\n"
     ]
    }
   ],
   "source": [
    "#Addition\n",
    "a = 43\n",
    "print(\"a = \",a)\n",
    "b = 34\n",
    "print(\"b =\",b)\n",
    "add = a + b\n",
    "print(\"add =\",add)"
   ]
  },
  {
   "cell_type": "code",
   "execution_count": 12,
   "id": "7af0c739-b465-4312-b583-378236cb5526",
   "metadata": {},
   "outputs": [
    {
     "name": "stdout",
     "output_type": "stream",
     "text": [
      "a =  43\n",
      "b = 34\n",
      "sub = 9\n"
     ]
    }
   ],
   "source": [
    "#Subtraction\n",
    "a = 43\n",
    "print(\"a = \",a)\n",
    "b = 34\n",
    "print(\"b =\",b)\n",
    "sub = a - b\n",
    "print(\"sub =\",sub)"
   ]
  },
  {
   "cell_type": "code",
   "execution_count": 13,
   "id": "989f45ff-333a-49a2-9c51-4305dff3e70c",
   "metadata": {},
   "outputs": [
    {
     "name": "stdout",
     "output_type": "stream",
     "text": [
      "a =  63\n",
      "b = 97\n",
      "Mul = 6111\n"
     ]
    }
   ],
   "source": [
    "#Multiplication\n",
    "a = 63\n",
    "print(\"a = \",a)\n",
    "b = 97\n",
    "print(\"b =\",b)\n",
    "Mul = a * b\n",
    "print(\"Mul =\",Mul)"
   ]
  },
  {
   "cell_type": "code",
   "execution_count": 16,
   "id": "ff955047-364b-42ed-b11a-b328db1f56db",
   "metadata": {},
   "outputs": [
    {
     "name": "stdout",
     "output_type": "stream",
     "text": [
      "a =  76\n",
      "b = 31\n",
      "Float Div = 2.4516129032258065\n"
     ]
    }
   ],
   "source": [
    "#Division\n",
    "a = 76\n",
    "print(\"a = \",a)\n",
    "b = 31\n",
    "print(\"b =\",b)\n",
    "Float_Div = a / b\n",
    "print(\"Float Div =\",Float_Div)"
   ]
  },
  {
   "cell_type": "code",
   "execution_count": 17,
   "id": "beea5473-e64e-436d-9df7-6ac5518c3255",
   "metadata": {},
   "outputs": [
    {
     "name": "stdout",
     "output_type": "stream",
     "text": [
      "a =  76\n",
      "b = 31\n",
      "Floor_Div = 2\n"
     ]
    }
   ],
   "source": [
    "#Floor division\n",
    "a = 76\n",
    "print(\"a = \",a)\n",
    "b = 31\n",
    "print(\"b =\",b)\n",
    "Floor_Div = a / b\n",
    "print(\"Floor_Div =\",int(Floor_Div))"
   ]
  },
  {
   "cell_type": "code",
   "execution_count": 19,
   "id": "80876464-68d3-46a5-b290-2243afa0d602",
   "metadata": {},
   "outputs": [
    {
     "name": "stdout",
     "output_type": "stream",
     "text": [
      "a =  76\n",
      "b = 31\n",
      "Modulo = 14\n"
     ]
    }
   ],
   "source": [
    "#Modulo\n",
    "a = 76\n",
    "print(\"a = \",a)\n",
    "b = 31\n",
    "print(\"b =\",b)\n",
    "Modulo = a % b\n",
    "print(\"Modulo =\",Modulo)"
   ]
  },
  {
   "cell_type": "code",
   "execution_count": 21,
   "id": "f4d1e8cb-ca07-4f88-b8bc-8a1516013631",
   "metadata": {},
   "outputs": [
    {
     "name": "stdout",
     "output_type": "stream",
     "text": [
      "a =  4\n",
      "b = 4\n",
      "Power = 256\n"
     ]
    }
   ],
   "source": [
    "#Power\n",
    "a = 4\n",
    "print(\"a = \",a)\n",
    "b = 4\n",
    "print(\"b =\",b)\n",
    "power = a ** b\n",
    "print(\"Power =\",power)"
   ]
  },
  {
   "cell_type": "code",
   "execution_count": null,
   "id": "b37e396f-df61-4308-b6a6-1d7807f2bab3",
   "metadata": {},
   "outputs": [],
   "source": []
  }
 ],
 "metadata": {
  "kernelspec": {
   "display_name": "Python [conda env:base] *",
   "language": "python",
   "name": "conda-base-py"
  },
  "language_info": {
   "codemirror_mode": {
    "name": "ipython",
    "version": 3
   },
   "file_extension": ".py",
   "mimetype": "text/x-python",
   "name": "python",
   "nbconvert_exporter": "python",
   "pygments_lexer": "ipython3",
   "version": "3.13.5"
  }
 },
 "nbformat": 4,
 "nbformat_minor": 5
}
