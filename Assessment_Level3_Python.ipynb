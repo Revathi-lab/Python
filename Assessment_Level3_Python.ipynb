{
 "cells": [
  {
   "cell_type": "code",
   "execution_count": 14,
   "id": "eace93de-273e-41c5-8b94-0833e30f15bf",
   "metadata": {},
   "outputs": [
    {
     "name": "stdin",
     "output_type": "stream",
     "text": [
      "Value : 10\n"
     ]
    },
    {
     "name": "stdout",
     "output_type": "stream",
     "text": [
      "Value: 10\n",
      "Correct\n"
     ]
    }
   ],
   "source": [
    "# print 'CORRECT' if i == 10\n",
    "i = int(input(\"Value :\"))\n",
    "print(\"Value:\",i)\n",
    "if (i == 10):\n",
    "    print(\"Correct\")"
   ]
  },
  {
   "cell_type": "code",
   "execution_count": 15,
   "id": "488b4885-c780-4a2f-8290-59955697613c",
   "metadata": {},
   "outputs": [
    {
     "name": "stdin",
     "output_type": "stream",
     "text": [
      "Enter the password: HOPE@123\n"
     ]
    },
    {
     "name": "stdout",
     "output_type": "stream",
     "text": [
      "Enter the password: HOPE@123\n",
      "Your password is Correct\n"
     ]
    }
   ],
   "source": [
    "# Check the password, using if and else\n",
    "password = input(\"Enter the password:\")\n",
    "print(\"Enter the password:\",password)\n",
    "if (password == \"HOPE@123\"):\n",
    "    print(\"Your password is Correct\")"
   ]
  },
  {
   "cell_type": "code",
   "execution_count": 16,
   "id": "4a2a0463-9ede-49f8-ba29-54200ce2c178",
   "metadata": {},
   "outputs": [
    {
     "name": "stdin",
     "output_type": "stream",
     "text": [
      "Enter the age: 20\n"
     ]
    },
    {
     "name": "stdout",
     "output_type": "stream",
     "text": [
      "Enter the age: 20\n",
      "Adult\n"
     ]
    }
   ],
   "source": [
    "# Catagory the people by their age like children, adult, citizen, senior citizen...\n",
    "age=int(input(\"Enter the age:\"))\n",
    "print(\"Enter the age:\",age)\n",
    "if(age<18):\n",
    "    print(\"Children\")\n",
    "elif(age<35):\n",
    "    print(\"Adult\")\n",
    "elif(age<59):\n",
    "    print(\"Citizen\")\n",
    "else:\n",
    "    print(\"Senior Citizen\")"
   ]
  },
  {
   "cell_type": "code",
   "execution_count": 17,
   "id": "d4911fbb-ba57-4a48-924f-dc4b0f925980",
   "metadata": {},
   "outputs": [
    {
     "name": "stdin",
     "output_type": "stream",
     "text": [
      "Enter any number: 1\n"
     ]
    },
    {
     "name": "stdout",
     "output_type": "stream",
     "text": [
      "Enter any number: 1\n",
      "No is positive\n"
     ]
    }
   ],
   "source": [
    "# Find whether given number is positive or negative\n",
    "num = int(input(\"Enter any number:\"))\n",
    "print(\"Enter any number:\",num)\n",
    "if num >= 0:\n",
    "    print(\"No is positive\")\n",
    "else:\n",
    "    print(\"No is negative\")"
   ]
  },
  {
   "cell_type": "code",
   "execution_count": 18,
   "id": "f00d227a-dd02-4eea-bb10-62d73701dbe9",
   "metadata": {},
   "outputs": [
    {
     "name": "stdin",
     "output_type": "stream",
     "text": [
      "Enter the number to check: 22\n"
     ]
    },
    {
     "name": "stdout",
     "output_type": "stream",
     "text": [
      "Enter the number to check: 22\n",
      "No is not divisible by 5\n"
     ]
    }
   ],
   "source": [
    "# Check whether the given number is divisible by 5\n",
    "num = int(input(\"Enter the number to check:\"))\n",
    "print(\"Enter the number to check:\",num)\n",
    "if num%5 == 0 :\n",
    "    print(\"No is divisible by 5\")\n",
    "else:\n",
    "    print(\"No is not divisible by 5\")"
   ]
  },
  {
   "cell_type": "code",
   "execution_count": null,
   "id": "dcc82bfe-9ed9-4788-8ccd-55750d85fbaf",
   "metadata": {},
   "outputs": [],
   "source": []
  }
 ],
 "metadata": {
  "kernelspec": {
   "display_name": "Python [conda env:base] *",
   "language": "python",
   "name": "conda-base-py"
  },
  "language_info": {
   "codemirror_mode": {
    "name": "ipython",
    "version": 3
   },
   "file_extension": ".py",
   "mimetype": "text/x-python",
   "name": "python",
   "nbconvert_exporter": "python",
   "pygments_lexer": "ipython3",
   "version": "3.13.5"
  }
 },
 "nbformat": 4,
 "nbformat_minor": 5
}
