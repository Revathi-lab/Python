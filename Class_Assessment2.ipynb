{
 "cells": [
  {
   "cell_type": "code",
   "execution_count": 10,
   "id": "7aec83d8-a911-46c6-9ea6-b9a40fd13de4",
   "metadata": {},
   "outputs": [],
   "source": [
    "from multiplefunctions import multiplefunctions"
   ]
  },
  {
   "cell_type": "code",
   "execution_count": 11,
   "id": "e7e89465-2d7e-4315-a2b3-22085ac5c53e",
   "metadata": {},
   "outputs": [
    {
     "name": "stdout",
     "output_type": "stream",
     "text": [
      "Sub-fields in AI are:\n",
      "Machine Learning\n",
      "Neural Networks\n",
      "Vision\n",
      "Robotics\n",
      "Speech Processing\n",
      "Natural Language Processing\n"
     ]
    }
   ],
   "source": [
    "multiplefunctions.Subfields()"
   ]
  },
  {
   "cell_type": "code",
   "execution_count": 12,
   "id": "1726fed8-613a-4801-af58-47b256c797ba",
   "metadata": {},
   "outputs": [
    {
     "name": "stdin",
     "output_type": "stream",
     "text": [
      "Enter the number: 44\n"
     ]
    },
    {
     "name": "stdout",
     "output_type": "stream",
     "text": [
      "44  is Even\n"
     ]
    }
   ],
   "source": [
    "multiplefunctions.OddEven()"
   ]
  },
  {
   "cell_type": "code",
   "execution_count": 13,
   "id": "efcce5f8-4573-4d86-8c6a-53d7d6341afb",
   "metadata": {},
   "outputs": [
    {
     "name": "stdin",
     "output_type": "stream",
     "text": [
      "Your gender: MAle\n",
      "Your age: 22\n"
     ]
    },
    {
     "name": "stdout",
     "output_type": "stream",
     "text": [
      "Not Eligible\n"
     ]
    }
   ],
   "source": [
    "multiplefunctions.eligible()"
   ]
  },
  {
   "cell_type": "code",
   "execution_count": 14,
   "id": "a645040c-628a-4bf9-970f-a8dca6654ec0",
   "metadata": {},
   "outputs": [
    {
     "name": "stdin",
     "output_type": "stream",
     "text": [
      "Subject1 = 78\n",
      "Subject2 = 56\n",
      "Subject3 = 67\n",
      "Subject4 = 87\n",
      "Subject5 = 98\n"
     ]
    },
    {
     "name": "stdout",
     "output_type": "stream",
     "text": [
      "Total: 386\n",
      "Percentage: 77.2\n"
     ]
    }
   ],
   "source": [
    "multiplefunctions.percentage()"
   ]
  },
  {
   "cell_type": "code",
   "execution_count": 17,
   "id": "bac55e5c-e099-494e-927c-bd67c901b7df",
   "metadata": {},
   "outputs": [
    {
     "name": "stdin",
     "output_type": "stream",
     "text": [
      "Enter height1 of the triangle 21\n",
      "Enter Breadth of the trainge 12\n",
      "Enter height2 of the triange: 24\n"
     ]
    },
    {
     "name": "stdout",
     "output_type": "stream",
     "text": [
      "Area of the triangle: 126.0\n",
      "Perimeter of the triange: 57\n"
     ]
    }
   ],
   "source": [
    "multiplefunctions.triangle()"
   ]
  },
  {
   "cell_type": "code",
   "execution_count": null,
   "id": "fc6c0f38-01c1-4c7d-bf7b-a4f09bd9303d",
   "metadata": {},
   "outputs": [],
   "source": []
  }
 ],
 "metadata": {
  "kernelspec": {
   "display_name": "Python [conda env:base] *",
   "language": "python",
   "name": "conda-base-py"
  },
  "language_info": {
   "codemirror_mode": {
    "name": "ipython",
    "version": 3
   },
   "file_extension": ".py",
   "mimetype": "text/x-python",
   "name": "python",
   "nbconvert_exporter": "python",
   "pygments_lexer": "ipython3",
   "version": "3.13.5"
  }
 },
 "nbformat": 4,
 "nbformat_minor": 5
}
