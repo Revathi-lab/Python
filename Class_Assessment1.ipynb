{
 "cells": [
  {
   "cell_type": "code",
   "execution_count": 2,
   "id": "ce285100-f08a-4883-b24c-a1390fa381a8",
   "metadata": {},
   "outputs": [],
   "source": [
    "# Create a class and function, and list out the items in the list\n",
    "class SubfieldsInAI:\n",
    "    def Subfields():\n",
    "        print(\"Sub-fields in AI are:\")\n",
    "        list = [\"Machine Learning\",\"Neural Networks\",\"Vision\",\"Robotics\",\"Speech Processing\",\"Natural Language Processing\"]\n",
    "        for subfield in list:\n",
    "            print(subfield)"
   ]
  },
  {
   "cell_type": "code",
   "execution_count": 3,
   "id": "a5ab687e-29a4-41d7-a019-bfe0584fe2b8",
   "metadata": {},
   "outputs": [
    {
     "name": "stdout",
     "output_type": "stream",
     "text": [
      "Sub-fields in AI are:\n",
      "Machine Learning\n",
      "Neural Networks\n",
      "Vision\n",
      "Robotics\n",
      "Speech Processing\n",
      "Natural Language Processing\n"
     ]
    }
   ],
   "source": [
    "SubfieldsInAI.Subfields()"
   ]
  },
  {
   "cell_type": "code",
   "execution_count": 4,
   "id": "276501a3-9410-4608-abd7-4eb089b6e1c4",
   "metadata": {},
   "outputs": [],
   "source": [
    "# Create a function that checks whether the given number is Odd or Even\n",
    "class OddEven:\n",
    "    def OddEven():\n",
    "        num = int(input(\"Enter the number:\"))\n",
    "        if (num%2==1):\n",
    "            print(num,\" is Odd\")\n",
    "        else:    \n",
    "            print(num,\" is Even\")"
   ]
  },
  {
   "cell_type": "code",
   "execution_count": 5,
   "id": "4bdb69cb-30a1-4f83-ad33-704321a66d3b",
   "metadata": {},
   "outputs": [
    {
     "name": "stdin",
     "output_type": "stream",
     "text": [
      "Enter the number: 23\n"
     ]
    },
    {
     "name": "stdout",
     "output_type": "stream",
     "text": [
      "23  is Odd\n"
     ]
    }
   ],
   "source": [
    "OddEven.OddEven()"
   ]
  },
  {
   "cell_type": "code",
   "execution_count": 10,
   "id": "b39dedbb-8016-4c3c-b52d-93eaff4c1be5",
   "metadata": {},
   "outputs": [],
   "source": [
    "class eligibleformarriage:\n",
    "    \n",
    "    def eligible():\n",
    "        gender = input(\"Your gender:\")\n",
    "        age = int(input(\"Your age:\"))\n",
    "        if age >= 21 and gender == \"Male\":\n",
    "            print(\"Eligible\")\n",
    "        elif age >=18 and gender == \"Female\":\n",
    "            print(\"Eligible\")\n",
    "        else:\n",
    "            print(\"Not Eligible\")"
   ]
  },
  {
   "cell_type": "code",
   "execution_count": 12,
   "id": "f462016f-77f8-4d05-82f2-d3466198c817",
   "metadata": {},
   "outputs": [
    {
     "name": "stdin",
     "output_type": "stream",
     "text": [
      "Your gender: Female\n",
      "Your age: 20\n"
     ]
    },
    {
     "name": "stdout",
     "output_type": "stream",
     "text": [
      "Eligible\n"
     ]
    }
   ],
   "source": [
    "eligibleformarriage.eligible()"
   ]
  },
  {
   "cell_type": "code",
   "execution_count": 13,
   "id": "ed222242-3f30-4e71-988e-a581d4704886",
   "metadata": {},
   "outputs": [],
   "source": [
    "class Findpercentage:\n",
    "    # calculate the percentage of your 10th mark\n",
    "    def percentage():\n",
    "        Sub1 = int(input(\"Subject1 =\"))\n",
    "        Sub2 = int(input(\"Subject2 =\"))\n",
    "        Sub3 = int(input(\"Subject3 =\"))\n",
    "        Sub4 = int(input(\"Subject4 =\"))\n",
    "        Sub5 = int(input(\"Subject5 =\"))\n",
    "        Total = Sub1 + Sub2 + Sub3 + Sub4 + Sub5\n",
    "        Percentage = Total/500*100\n",
    "        print(\"Total:\",Total)\n",
    "        print(\"Percentage:\",Percentage)\n",
    "    "
   ]
  },
  {
   "cell_type": "code",
   "execution_count": 14,
   "id": "6be7580c-9b1a-4acb-9836-64576cc22407",
   "metadata": {},
   "outputs": [
    {
     "name": "stdin",
     "output_type": "stream",
     "text": [
      "Subject1 = 78\n",
      "Subject2 = 76\n",
      "Subject3 = 68\n",
      "Subject4 = 98\n",
      "Subject5 = 87\n"
     ]
    },
    {
     "name": "stdout",
     "output_type": "stream",
     "text": [
      "Total: 407\n",
      "Percentage: 81.39999999999999\n"
     ]
    }
   ],
   "source": [
    "Findpercentage.percentage()"
   ]
  },
  {
   "cell_type": "code",
   "execution_count": 17,
   "id": "86a61dfc-3e07-4742-8c1e-a5effff5f212",
   "metadata": {},
   "outputs": [],
   "source": [
    "class triangle:\n",
    "        #print area and perimeter of triangle using class and functions\n",
    "    def triangle():\n",
    "        Height1 = int(input(\"Enter height1 of the triangle\"))\n",
    "        Breadth = int(input(\"Enter Breadth of the trainge\"))\n",
    "        Height2 = int(input (\"Enter height2 of the triange:\"))\n",
    "        area = Height1*Breadth/2\n",
    "        perimeter = Height1+Height2+Breadth\n",
    "        print(\"Area of the triangle:\", area)\n",
    "        print(\"Perimeter of the triange:\",perimeter)"
   ]
  },
  {
   "cell_type": "code",
   "execution_count": 18,
   "id": "b3e6cf31-b78e-4599-9e34-d5dd2fcadd4c",
   "metadata": {},
   "outputs": [
    {
     "name": "stdin",
     "output_type": "stream",
     "text": [
      "Enter height1 of the triangle 23\n",
      "Enter Breadth of the trainge 21\n",
      "Enter height2 of the triange: 34\n"
     ]
    },
    {
     "name": "stdout",
     "output_type": "stream",
     "text": [
      "Area of the triangle: 241.5\n",
      "Perimeter of the triange: 78\n"
     ]
    }
   ],
   "source": [
    "triangle.triangle()"
   ]
  },
  {
   "cell_type": "code",
   "execution_count": null,
   "id": "549c5611-521c-4815-b990-2f458bcb145b",
   "metadata": {},
   "outputs": [],
   "source": []
  }
 ],
 "metadata": {
  "kernelspec": {
   "display_name": "Python [conda env:base] *",
   "language": "python",
   "name": "conda-base-py"
  },
  "language_info": {
   "codemirror_mode": {
    "name": "ipython",
    "version": 3
   },
   "file_extension": ".py",
   "mimetype": "text/x-python",
   "name": "python",
   "nbconvert_exporter": "python",
   "pygments_lexer": "ipython3",
   "version": "3.13.5"
  }
 },
 "nbformat": 4,
 "nbformat_minor": 5
}
