{
 "cells": [
  {
   "cell_type": "code",
   "execution_count": 10,
   "id": "4e0bad56-3ed1-4b1d-8114-2cc99e09c285",
   "metadata": {},
   "outputs": [],
   "source": [
    "# Create a class and function, and list out the items in the list\n",
    "def Subfields():\n",
    "    print(\"Sub-fields in AI are:\")\n",
    "    list = [\"Machine Learning\",\"Neural Networks\",\"Vision\",\"Robotics\",\"Speech Processing\",\"Natural Language Processing\"]\n",
    "    for subfield in list:\n",
    "        print(subfield)"
   ]
  },
  {
   "cell_type": "code",
   "execution_count": 11,
   "id": "420ec7b6-e82a-4283-a6ab-d13a91669212",
   "metadata": {},
   "outputs": [
    {
     "name": "stdout",
     "output_type": "stream",
     "text": [
      "Sub-fields in AI are:\n",
      "Machine Learning\n",
      "Neural Networks\n",
      "Vision\n",
      "Robotics\n",
      "Speech Processing\n",
      "Natural Language Processing\n"
     ]
    }
   ],
   "source": [
    "Subfields()"
   ]
  },
  {
   "cell_type": "code",
   "execution_count": 14,
   "id": "78c1147a-838b-47fe-8695-0ac1a4588380",
   "metadata": {},
   "outputs": [],
   "source": [
    "# Create a function that checks whether the given number is Odd or Even\n",
    "def OddEven():\n",
    "    num = int(input(\"Enter the number:\"))\n",
    "    if (num%2==1):\n",
    "        print(num,\" is Odd\")\n",
    "    else:    \n",
    "        print(num,\" is Even\")\n",
    "                  "
   ]
  },
  {
   "cell_type": "code",
   "execution_count": 15,
   "id": "9e40f2c9-919e-407d-bd83-2bd7b7822b08",
   "metadata": {},
   "outputs": [
    {
     "name": "stdin",
     "output_type": "stream",
     "text": [
      "Enter the number: 52452\n"
     ]
    },
    {
     "name": "stdout",
     "output_type": "stream",
     "text": [
      "52452  is Even\n"
     ]
    }
   ],
   "source": [
    "OddEven()"
   ]
  },
  {
   "cell_type": "code",
   "execution_count": null,
   "id": "2eb18624-1935-4704-a916-fe0823606784",
   "metadata": {},
   "outputs": [],
   "source": [
    "# Create a function that tells elegibility of marriage for male and female according to their age limit like 21 for male and 18 for female"
   ]
  },
  {
   "cell_type": "code",
   "execution_count": 19,
   "id": "d3cf60ee-3e63-4433-b7d5-29576026b461",
   "metadata": {},
   "outputs": [],
   "source": [
    "def eligble():\n",
    "    gender = input(\"Your gender:\")\n",
    "    age = int(input(\"Your age:\"))\n",
    "    if age >= 21 and gender == \"Male\":\n",
    "        print(\"Eligible\")\n",
    "    elif age >=18 and gender == \"Female\":\n",
    "        print(\"Eligible\")\n",
    "    else:\n",
    "        print(\"Not Eligible\")"
   ]
  },
  {
   "cell_type": "code",
   "execution_count": 24,
   "id": "456a0f15-716b-496b-ac1f-f119d0756e43",
   "metadata": {},
   "outputs": [
    {
     "name": "stdin",
     "output_type": "stream",
     "text": [
      "Your gender: Male\n",
      "Your age: 20\n"
     ]
    },
    {
     "name": "stdout",
     "output_type": "stream",
     "text": [
      "Not Eligible\n"
     ]
    }
   ],
   "source": [
    "eligble()"
   ]
  },
  {
   "cell_type": "code",
   "execution_count": 29,
   "id": "a75ebe9c-26d6-4370-b389-9f3e841d0755",
   "metadata": {},
   "outputs": [],
   "source": [
    "# calculate the percentage of your 10th mark\n",
    "def percentage():\n",
    "    Sub1 = int(input(\"Subject1 =\"))\n",
    "    Sub2 = int(input(\"Subject2 =\"))\n",
    "    Sub3 = int(input(\"Subject3 =\"))\n",
    "    Sub4 = int(input(\"Subject4 =\"))\n",
    "    Sub5 = int(input(\"Subject5 =\"))\n",
    "    Total = Sub1 + Sub2 + Sub3 + Sub4 + Sub5\n",
    "    Percentage = Total/500*100\n",
    "    print(\"Total:\",Total)\n",
    "    print(\"Percentage:\",Percentage)\n",
    "    "
   ]
  },
  {
   "cell_type": "code",
   "execution_count": 32,
   "id": "ad81a018-dcb1-4bfd-b80d-469f8e102f9f",
   "metadata": {},
   "outputs": [
    {
     "name": "stdin",
     "output_type": "stream",
     "text": [
      "Subject1 = 98\n",
      "Subject2 = 78\n",
      "Subject3 = 89\n",
      "Subject4 = 85\n",
      "Subject5 = 86\n"
     ]
    },
    {
     "name": "stdout",
     "output_type": "stream",
     "text": [
      "Total: 436\n",
      "Percentage: 87.2\n"
     ]
    }
   ],
   "source": [
    "percentage()"
   ]
  },
  {
   "cell_type": "code",
   "execution_count": 35,
   "id": "67ea71e9-0309-4386-92d4-81df92f28bb0",
   "metadata": {},
   "outputs": [],
   "source": [
    "#print area and perimeter of triangle using class and functions\n",
    "def triangle():\n",
    "    Height1 = int(input(\"Enter height1 of the triangle\"))\n",
    "    Breadth = int(input(\"Enter Breadth of the trainge\"))\n",
    "    Height2 = int(input (\"Enter height2 of the triange:\"))\n",
    "    area = Height1*Breadth/2\n",
    "    perimeter = Height1+Height2+Breadth\n",
    "    print(\"Area of the triangle:\", area)\n",
    "    print(\"Perimeter of the triange:\",perimeter)"
   ]
  },
  {
   "cell_type": "code",
   "execution_count": 36,
   "id": "43f7890e-7a07-40d8-abb2-d9ea40f3b2ad",
   "metadata": {},
   "outputs": [
    {
     "name": "stdin",
     "output_type": "stream",
     "text": [
      "Enter height1 of the triangle 23\n",
      "Enter Breadth of the trainge 34\n",
      "Enter height2 of the triange: 24\n"
     ]
    },
    {
     "name": "stdout",
     "output_type": "stream",
     "text": [
      "Area of the triangle: 391.0\n",
      "Perimeter of the triange: 81\n"
     ]
    }
   ],
   "source": [
    "triangle()"
   ]
  },
  {
   "cell_type": "code",
   "execution_count": null,
   "id": "973b8884-28cf-4380-a694-c81d99817f5f",
   "metadata": {},
   "outputs": [],
   "source": []
  }
 ],
 "metadata": {
  "kernelspec": {
   "display_name": "Python [conda env:base] *",
   "language": "python",
   "name": "conda-base-py"
  },
  "language_info": {
   "codemirror_mode": {
    "name": "ipython",
    "version": 3
   },
   "file_extension": ".py",
   "mimetype": "text/x-python",
   "name": "python",
   "nbconvert_exporter": "python",
   "pygments_lexer": "ipython3",
   "version": "3.13.5"
  }
 },
 "nbformat": 4,
 "nbformat_minor": 5
}
